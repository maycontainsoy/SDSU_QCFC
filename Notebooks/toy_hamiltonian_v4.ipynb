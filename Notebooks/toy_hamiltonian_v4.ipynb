{
 "cells": [
  {
   "cell_type": "markdown",
   "metadata": {},
   "source": [
    "# Variational eigensolver for toy Hamiltonian on a single qubit\n",
    "## Version 4: Qiskit classes\n",
    "Jordan Fox 3/2/20\n",
    "\n",
    "This notebook uses the  built-in Qiskit classes to do the same problem as `toy_hamiltonian_v3.ipynb` : use the variational technique to solve for the ground state of $H = a Z + b X + c Y $\n",
    "where $Z,X,Y$ are Pauli matrices and $a,b,c$ are real inputs.\n",
    "\n",
    "Below I simply construct the Hamiltonian operator object with `WeightedPauliOperator`, initialize the variational form with `RYRZ`, choose optimizer `COBYLA`, and run the `VQE` object."
   ]
  },
  {
   "cell_type": "code",
   "execution_count": null,
   "metadata": {},
   "outputs": [],
   "source": [
    "import numpy as np\n",
    "from qiskit import Aer\n",
    "\n",
    "from qiskit.visualization import plot_histogram\n",
    "%matplotlib inline\n",
    "import matplotlib.pyplot as plt\n",
    "\n",
    "backend = Aer.get_backend(\"qasm_simulator\")\n",
    "from qiskit.aqua.algorithms import VQE, ExactEigensolver\n",
    "from qiskit.aqua.operators import WeightedPauliOperator\n",
    "from qiskit.quantum_info.operators import Pauli\n",
    "from qiskit.aqua.components.variational_forms import RYRZ\n",
    "from qiskit.aqua.components.optimizers import COBYLA"
   ]
  },
  {
   "cell_type": "code",
   "execution_count": null,
   "metadata": {},
   "outputs": [],
   "source": [
    "def get_ham_op(params):\n",
    "    # create operator H = aZ + bX + cY\n",
    "    a,b,c = params\n",
    "    Z = Pauli([1],[0])\n",
    "    X = Pauli([0],[1])\n",
    "    Y = Pauli([1],[1])\n",
    "    ham = WeightedPauliOperator([[a,Z],[b,X],[c,Y]])\n",
    "    return ham"
   ]
  },
  {
   "cell_type": "code",
   "execution_count": null,
   "metadata": {},
   "outputs": [],
   "source": [
    "H = get_ham_op([1,2,0.5])      # set hamiltonian parameters here\n",
    "var_form = RYRZ(num_qubits=1)   # define variational form of wavefunction\n",
    "opt = COBYLA(maxiter=10**6,tol=10**-5)      # choose optimizer parameters"
   ]
  },
  {
   "cell_type": "code",
   "execution_count": null,
   "metadata": {},
   "outputs": [],
   "source": [
    "vqe = VQE(H, var_form, opt)\n",
    "vqe_result = vqe.run(backend,shots=10000)    # remember to set shots here, as it determines statistical convergence\n",
    "egs_vqe = vqe_result['energy']\n",
    "print('VQE g.s. energy = %f' % egs_vqe)\n",
    "print('exact g.s. energy = %f' % min(ExactEigensolver(H).run()['eigvals']))   # returns imaginary part of machine zero sometimes"
   ]
  },
  {
   "cell_type": "code",
   "execution_count": null,
   "metadata": {},
   "outputs": [],
   "source": []
  }
 ],
 "metadata": {
  "kernelspec": {
   "display_name": "Python 3",
   "language": "python",
   "name": "python3"
  },
  "language_info": {
   "codemirror_mode": {
    "name": "ipython",
    "version": 3
   },
   "file_extension": ".py",
   "mimetype": "text/x-python",
   "name": "python",
   "nbconvert_exporter": "python",
   "pygments_lexer": "ipython3",
   "version": "3.6.8"
  }
 },
 "nbformat": 4,
 "nbformat_minor": 4
}
